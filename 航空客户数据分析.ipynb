{
 "cells": [
  {
   "cell_type": "markdown",
   "metadata": {},
   "source": [
    "# 航空公司客户价值分析"
   ]
  },
  {
   "cell_type": "markdown",
   "metadata": {},
   "source": [
    "目录\n",
    "\n",
    "- 背景与数据源\n",
    "\n",
    "- 特征选取\n",
    "\n",
    "- 程序代码\n",
    "\n",
    "- 拓展思考\n"
   ]
  },
  {
   "cell_type": "markdown",
   "metadata": {},
   "source": [
    "背景与数据源\n",
    "- 背景\n",
    "    - 二八定律： 20%的客户，为企业带来约80%的利益。\n",
    "    - 在企业的客户关系管理中，对客户分类，区分不同价值的客户。针对不同价值的客户提供个性化服务方案，采取不同营销策略，将有限营销资源集中于高价值客户，实现企业利润最大化目标。\n",
    "    - 在竞争激烈的航空市场里，很多航空公司都推出了优惠的营销方式来吸引更多的客户。在此种环境下，如何将公司有限的资源充分利用，提示企业竞争力，为企业带来更多的利益。\n",
    "- 数据源\n",
    "    - 和鲸社区（航空客户价值数据集）"
   ]
  },
  {
   "cell_type": "markdown",
   "metadata": {},
   "source": [
    "航空公司客户价值分析模型（LRFMC）： \n",
    "- L：会员入会时间距观测窗口结束的时间 \n",
    "- R：客户最近一次乘坐公司分级距观测窗口结束的时间（月数） \n",
    "- F：客户在观测窗口内乘坐公司飞机的次数 \n",
    "- M：客户在观测窗口内累计的飞行里程 \n",
    "- C：客户在观测窗口内乘坐舱位所对应的折扣系数的平均值\n",
    "\n",
    "采用K-Means聚类算法，对客户进行分群，比较不同类别客户的客户价值，从而指定相应的营销策略"
   ]
  },
  {
   "cell_type": "code",
   "execution_count": 1,
   "metadata": {},
   "outputs": [
    {
     "name": "stdout",
     "output_type": "stream",
     "text": [
      "<class 'pandas.core.frame.DataFrame'>\n",
      "RangeIndex: 62988 entries, 0 to 62987\n",
      "Data columns (total 44 columns):\n",
      " #   Column                   Non-Null Count  Dtype  \n",
      "---  ------                   --------------  -----  \n",
      " 0   MEMBER_NO                62988 non-null  int64  \n",
      " 1   FFP_DATE                 62988 non-null  object \n",
      " 2   FIRST_FLIGHT_DATE        62988 non-null  object \n",
      " 3   GENDER                   62985 non-null  object \n",
      " 4   FFP_TIER                 62988 non-null  int64  \n",
      " 5   WORK_CITY                60719 non-null  object \n",
      " 6   WORK_PROVINCE            59740 non-null  object \n",
      " 7   WORK_COUNTRY             62962 non-null  object \n",
      " 8   AGE                      62568 non-null  float64\n",
      " 9   LOAD_TIME                62988 non-null  object \n",
      " 10  FLIGHT_COUNT             62988 non-null  int64  \n",
      " 11  BP_SUM                   62988 non-null  int64  \n",
      " 12  EP_SUM_YR_1              62988 non-null  int64  \n",
      " 13  EP_SUM_YR_2              62988 non-null  int64  \n",
      " 14  SUM_YR_1                 62437 non-null  float64\n",
      " 15  SUM_YR_2                 62850 non-null  float64\n",
      " 16  SEG_KM_SUM               62988 non-null  int64  \n",
      " 17  WEIGHTED_SEG_KM          62988 non-null  float64\n",
      " 18  LAST_FLIGHT_DATE         62988 non-null  object \n",
      " 19  AVG_FLIGHT_COUNT         62988 non-null  float64\n",
      " 20  AVG_BP_SUM               62988 non-null  float64\n",
      " 21  BEGIN_TO_FIRST           62988 non-null  int64  \n",
      " 22  LAST_TO_END              62988 non-null  int64  \n",
      " 23  AVG_INTERVAL             62988 non-null  float64\n",
      " 24  MAX_INTERVAL             62988 non-null  int64  \n",
      " 25  ADD_POINTS_SUM_YR_1      62988 non-null  int64  \n",
      " 26  ADD_POINTS_SUM_YR_2      62988 non-null  int64  \n",
      " 27  EXCHANGE_COUNT           62988 non-null  int64  \n",
      " 28  avg_discount             62988 non-null  float64\n",
      " 29  P1Y_Flight_Count         62988 non-null  int64  \n",
      " 30  L1Y_Flight_Count         62988 non-null  int64  \n",
      " 31  P1Y_BP_SUM               62988 non-null  int64  \n",
      " 32  L1Y_BP_SUM               62988 non-null  int64  \n",
      " 33  EP_SUM                   62988 non-null  int64  \n",
      " 34  ADD_Point_SUM            62988 non-null  int64  \n",
      " 35  Eli_Add_Point_Sum        62988 non-null  int64  \n",
      " 36  L1Y_ELi_Add_Points       62988 non-null  int64  \n",
      " 37  Points_Sum               62988 non-null  int64  \n",
      " 38  L1Y_Points_Sum           62988 non-null  int64  \n",
      " 39  Ration_L1Y_Flight_Count  62988 non-null  float64\n",
      " 40  Ration_P1Y_Flight_Count  62988 non-null  float64\n",
      " 41  Ration_P1Y_BPS           62988 non-null  float64\n",
      " 42  Ration_L1Y_BPS           62988 non-null  float64\n",
      " 43  Point_NotFlight          62988 non-null  int64  \n",
      "dtypes: float64(12), int64(24), object(8)\n",
      "memory usage: 21.1+ MB\n"
     ]
    }
   ],
   "source": [
    "import numpy as np\n",
    "import pandas as pd\n",
    "from sklearn.cluster import KMeans\n",
    "import matplotlib.pyplot as plt\n",
    "\n",
    "\n",
    "airline_data = pd.read_csv(\"air_data.csv\") #导入航空数据\n",
    "airline_data.info()\n",
    "#print('原始数据的形状为：',airline_data.shape)"
   ]
  },
  {
   "cell_type": "markdown",
   "metadata": {},
   "source": [
    "数据集共有62988条数据，44个特征。"
   ]
  },
  {
   "cell_type": "code",
   "execution_count": 2,
   "metadata": {},
   "outputs": [
    {
     "data": {
      "text/plain": [
       "MEMBER_NO                  62988\n",
       "FFP_DATE                   62988\n",
       "FIRST_FLIGHT_DATE          62988\n",
       "GENDER                     62985\n",
       "FFP_TIER                   62988\n",
       "WORK_CITY                  60719\n",
       "WORK_PROVINCE              59740\n",
       "WORK_COUNTRY               62962\n",
       "AGE                        62568\n",
       "LOAD_TIME                  62988\n",
       "FLIGHT_COUNT               62988\n",
       "BP_SUM                     62988\n",
       "EP_SUM_YR_1                62988\n",
       "EP_SUM_YR_2                62988\n",
       "SUM_YR_1                   62437\n",
       "SUM_YR_2                   62850\n",
       "SEG_KM_SUM                 62988\n",
       "WEIGHTED_SEG_KM            62988\n",
       "LAST_FLIGHT_DATE           62988\n",
       "AVG_FLIGHT_COUNT           62988\n",
       "AVG_BP_SUM                 62988\n",
       "BEGIN_TO_FIRST             62988\n",
       "LAST_TO_END                62988\n",
       "AVG_INTERVAL               62988\n",
       "MAX_INTERVAL               62988\n",
       "ADD_POINTS_SUM_YR_1        62988\n",
       "ADD_POINTS_SUM_YR_2        62988\n",
       "EXCHANGE_COUNT             62988\n",
       "avg_discount               62988\n",
       "P1Y_Flight_Count           62988\n",
       "L1Y_Flight_Count           62988\n",
       "P1Y_BP_SUM                 62988\n",
       "L1Y_BP_SUM                 62988\n",
       "EP_SUM                     62988\n",
       "ADD_Point_SUM              62988\n",
       "Eli_Add_Point_Sum          62988\n",
       "L1Y_ELi_Add_Points         62988\n",
       "Points_Sum                 62988\n",
       "L1Y_Points_Sum             62988\n",
       "Ration_L1Y_Flight_Count    62988\n",
       "Ration_P1Y_Flight_Count    62988\n",
       "Ration_P1Y_BPS             62988\n",
       "Ration_L1Y_BPS             62988\n",
       "Point_NotFlight            62988\n",
       "dtype: int64"
      ]
     },
     "execution_count": 2,
     "metadata": {},
     "output_type": "execute_result"
    }
   ],
   "source": [
    "airline_data.count()"
   ]
  },
  {
   "cell_type": "markdown",
   "metadata": {},
   "source": [
    "数据集中存在票价为空但是飞行公里大于零的不合理值，但是所占比例较小，这里直接删去"
   ]
  },
  {
   "cell_type": "code",
   "execution_count": 3,
   "metadata": {},
   "outputs": [
    {
     "name": "stdout",
     "output_type": "stream",
     "text": [
      "删除缺失记录后数据的形状为： (62299, 44)\n"
     ]
    }
   ],
   "source": [
    "## 去除票价为空的记录\n",
    "exp1 = airline_data[\"SUM_YR_1\"].notnull()\n",
    "exp2 = airline_data[\"SUM_YR_2\"].notnull()\n",
    "exp = exp1 & exp2\n",
    "airline_notnull = airline_data.loc[exp,:]\n",
    "print('删除缺失记录后数据的形状为：',airline_notnull.shape)"
   ]
  },
  {
   "cell_type": "code",
   "execution_count": 4,
   "metadata": {},
   "outputs": [
    {
     "name": "stdout",
     "output_type": "stream",
     "text": [
      "删除异常记录后数据的形状为： (62044, 44)\n"
     ]
    }
   ],
   "source": [
    "#只保留票价非零的，或者平均折扣率不为0且总飞行公里数大于0的记录。\n",
    "index1 = airline_notnull['SUM_YR_1'] != 0\n",
    "index2 = airline_notnull['SUM_YR_2'] != 0\n",
    "index3 = (airline_notnull['SEG_KM_SUM']> 0) & \\\n",
    "    (airline_notnull['avg_discount'] != 0)  \n",
    "airline = airline_notnull[(index1 | index2) & index3]\n",
    "print('删除异常记录后数据的形状为：',airline.shape)"
   ]
  },
  {
   "cell_type": "markdown",
   "metadata": {},
   "source": [
    "    数据集中存在票价为空的删除了，票价为0和平均折扣率不为0且总飞行公里数大于0的记录是不合理的，也要删除。\n",
    "\n",
    "    删除后剩余的样本值是62044个，可见异常样本的比例不足1.5%，因此不会对分析结果产生较大的影响。"
   ]
  },
  {
   "cell_type": "markdown",
   "metadata": {},
   "source": [
    "特征选取\n",
    "- L = LOAD_TIME - FFP_DATE\n",
    "会员入会时间距观测窗口结束的月数 = 观测窗口的结束时间 - 入会时间[单位：月]\n",
    "- R = LAST_TO_END\n",
    "客户最近一次乘坐公司飞机距观测窗口结束的月数 = 最后一次乘机时间至观察窗口末端时长[单位：月]\n",
    "- F = FLIGHT_COUNT\n",
    "客户在观测窗口内乘坐公司飞机的次数 = 观测窗口的飞行次数[单位：次]\n",
    "- M = SEG_KM_SUM\n",
    "客户在观测时间内在公司累计的飞行里程 = 观测窗口总飞行公里数[单位：公里]\n",
    "- C = AVG_DISCOUNT\n",
    "客户在观测时间内乘坐舱位所对应的折扣系数的平均值 = 平均折扣率[单位：无]\n",
    "\n",
    "原因\n",
    "- 因消费金额指标在航空公司中不适用，故选择客户在一定时间内累积的飞行里程M和客户乘坐舱位折扣系数的平均值C两个指标代替消费金额。此外，考虑航空公司会员加入时间在一定程度上能够影响客户价值，所以在模型中增加客户关系长度L，作为区分客户的另一指标，因此构建出LRFMC模型。"
   ]
  },
  {
   "cell_type": "code",
   "execution_count": 5,
   "metadata": {},
   "outputs": [
    {
     "data": {
      "text/html": [
       "<div>\n",
       "<style scoped>\n",
       "    .dataframe tbody tr th:only-of-type {\n",
       "        vertical-align: middle;\n",
       "    }\n",
       "\n",
       "    .dataframe tbody tr th {\n",
       "        vertical-align: top;\n",
       "    }\n",
       "\n",
       "    .dataframe thead th {\n",
       "        text-align: right;\n",
       "    }\n",
       "</style>\n",
       "<table border=\"1\" class=\"dataframe\">\n",
       "  <thead>\n",
       "    <tr style=\"text-align: right;\">\n",
       "      <th></th>\n",
       "      <th>LOAD_TIME</th>\n",
       "      <th>FFP_DATE</th>\n",
       "      <th>LAST_TO_END</th>\n",
       "      <th>FLIGHT_COUNT</th>\n",
       "      <th>SEG_KM_SUM</th>\n",
       "      <th>avg_discount</th>\n",
       "    </tr>\n",
       "  </thead>\n",
       "  <tbody>\n",
       "    <tr>\n",
       "      <th>0</th>\n",
       "      <td>2014/03/31</td>\n",
       "      <td>2006/11/02</td>\n",
       "      <td>1</td>\n",
       "      <td>210</td>\n",
       "      <td>580717</td>\n",
       "      <td>0.961639</td>\n",
       "    </tr>\n",
       "    <tr>\n",
       "      <th>1</th>\n",
       "      <td>2014/03/31</td>\n",
       "      <td>2007/02/19</td>\n",
       "      <td>7</td>\n",
       "      <td>140</td>\n",
       "      <td>293678</td>\n",
       "      <td>1.252314</td>\n",
       "    </tr>\n",
       "    <tr>\n",
       "      <th>2</th>\n",
       "      <td>2014/03/31</td>\n",
       "      <td>2007/02/01</td>\n",
       "      <td>11</td>\n",
       "      <td>135</td>\n",
       "      <td>283712</td>\n",
       "      <td>1.254676</td>\n",
       "    </tr>\n",
       "    <tr>\n",
       "      <th>3</th>\n",
       "      <td>2014/03/31</td>\n",
       "      <td>2008/08/22</td>\n",
       "      <td>97</td>\n",
       "      <td>23</td>\n",
       "      <td>281336</td>\n",
       "      <td>1.090870</td>\n",
       "    </tr>\n",
       "    <tr>\n",
       "      <th>4</th>\n",
       "      <td>2014/03/31</td>\n",
       "      <td>2009/04/10</td>\n",
       "      <td>5</td>\n",
       "      <td>152</td>\n",
       "      <td>309928</td>\n",
       "      <td>0.970658</td>\n",
       "    </tr>\n",
       "  </tbody>\n",
       "</table>\n",
       "</div>"
      ],
      "text/plain": [
       "    LOAD_TIME    FFP_DATE  LAST_TO_END  FLIGHT_COUNT  SEG_KM_SUM  avg_discount\n",
       "0  2014/03/31  2006/11/02            1           210      580717      0.961639\n",
       "1  2014/03/31  2007/02/19            7           140      293678      1.252314\n",
       "2  2014/03/31  2007/02/01           11           135      283712      1.254676\n",
       "3  2014/03/31  2008/08/22           97            23      281336      1.090870\n",
       "4  2014/03/31  2009/04/10            5           152      309928      0.970658"
      ]
     },
     "execution_count": 5,
     "metadata": {},
     "output_type": "execute_result"
    }
   ],
   "source": [
    "al2 = airline[[\"LOAD_TIME\",\"FFP_DATE\",\n",
    "    \"LAST_TO_END\",\"FLIGHT_COUNT\",\n",
    "    \"SEG_KM_SUM\",\"avg_discount\"]]\n",
    "al2.head()"
   ]
  },
  {
   "cell_type": "markdown",
   "metadata": {},
   "source": [
    "入会时长（L） = LOAD_TIME(截止时间) - FFP_DATE(入会时间)"
   ]
  },
  {
   "cell_type": "code",
   "execution_count": 6,
   "metadata": {},
   "outputs": [
    {
     "data": {
      "text/html": [
       "<div>\n",
       "<style scoped>\n",
       "    .dataframe tbody tr th:only-of-type {\n",
       "        vertical-align: middle;\n",
       "    }\n",
       "\n",
       "    .dataframe tbody tr th {\n",
       "        vertical-align: top;\n",
       "    }\n",
       "\n",
       "    .dataframe thead th {\n",
       "        text-align: right;\n",
       "    }\n",
       "</style>\n",
       "<table border=\"1\" class=\"dataframe\">\n",
       "  <thead>\n",
       "    <tr style=\"text-align: right;\">\n",
       "      <th></th>\n",
       "      <th>入会时长</th>\n",
       "      <th>上一飞行距今</th>\n",
       "      <th>飞行总计</th>\n",
       "      <th>飞行总里程</th>\n",
       "      <th>平均折扣率</th>\n",
       "    </tr>\n",
       "  </thead>\n",
       "  <tbody>\n",
       "    <tr>\n",
       "      <th>0</th>\n",
       "      <td>90.200000</td>\n",
       "      <td>1</td>\n",
       "      <td>210</td>\n",
       "      <td>580717</td>\n",
       "      <td>0.961639</td>\n",
       "    </tr>\n",
       "    <tr>\n",
       "      <th>1</th>\n",
       "      <td>86.566667</td>\n",
       "      <td>7</td>\n",
       "      <td>140</td>\n",
       "      <td>293678</td>\n",
       "      <td>1.252314</td>\n",
       "    </tr>\n",
       "    <tr>\n",
       "      <th>2</th>\n",
       "      <td>87.166667</td>\n",
       "      <td>11</td>\n",
       "      <td>135</td>\n",
       "      <td>283712</td>\n",
       "      <td>1.254676</td>\n",
       "    </tr>\n",
       "    <tr>\n",
       "      <th>3</th>\n",
       "      <td>68.233333</td>\n",
       "      <td>97</td>\n",
       "      <td>23</td>\n",
       "      <td>281336</td>\n",
       "      <td>1.090870</td>\n",
       "    </tr>\n",
       "    <tr>\n",
       "      <th>4</th>\n",
       "      <td>60.533333</td>\n",
       "      <td>5</td>\n",
       "      <td>152</td>\n",
       "      <td>309928</td>\n",
       "      <td>0.970658</td>\n",
       "    </tr>\n",
       "  </tbody>\n",
       "</table>\n",
       "</div>"
      ],
      "text/plain": [
       "        入会时长  上一飞行距今  飞行总计   飞行总里程     平均折扣率\n",
       "0  90.200000       1   210  580717  0.961639\n",
       "1  86.566667       7   140  293678  1.252314\n",
       "2  87.166667      11   135  283712  1.254676\n",
       "3  68.233333      97    23  281336  1.090870\n",
       "4  60.533333       5   152  309928  0.970658"
      ]
     },
     "execution_count": 6,
     "metadata": {},
     "output_type": "execute_result"
    }
   ],
   "source": [
    "#计算入会时长转换数据类型\n",
    "L = pd.to_datetime(al2[\"LOAD_TIME\"]) - \\\n",
    "pd.to_datetime(al2[\"FFP_DATE\"])\n",
    "L = L.astype(\"str\").str.split().str[0]\n",
    "L = L.astype(\"int\")/30\n",
    "## 合并特征\n",
    "al3 = pd.concat([L,\n",
    "    al2.iloc[:,2:]],axis = 1)\n",
    "al3.columns=[u'入会时长',u'上一飞行距今',u'飞行总计',u'飞行总里程',u'平均折扣率']\n",
    "al3.head()"
   ]
  },
  {
   "cell_type": "code",
   "execution_count": 7,
   "metadata": {},
   "outputs": [
    {
     "data": {
      "text/html": [
       "<div>\n",
       "<style scoped>\n",
       "    .dataframe tbody tr th:only-of-type {\n",
       "        vertical-align: middle;\n",
       "    }\n",
       "\n",
       "    .dataframe tbody tr th {\n",
       "        vertical-align: top;\n",
       "    }\n",
       "\n",
       "    .dataframe thead th {\n",
       "        text-align: right;\n",
       "    }\n",
       "</style>\n",
       "<table border=\"1\" class=\"dataframe\">\n",
       "  <thead>\n",
       "    <tr style=\"text-align: right;\">\n",
       "      <th></th>\n",
       "      <th>入会时长</th>\n",
       "      <th>上一飞行距今</th>\n",
       "      <th>飞行总计</th>\n",
       "      <th>飞行总里程</th>\n",
       "      <th>平均折扣率</th>\n",
       "    </tr>\n",
       "  </thead>\n",
       "  <tbody>\n",
       "    <tr>\n",
       "      <th>0</th>\n",
       "      <td>1.435707</td>\n",
       "      <td>-0.944948</td>\n",
       "      <td>14.034016</td>\n",
       "      <td>26.761154</td>\n",
       "      <td>1.295540</td>\n",
       "    </tr>\n",
       "    <tr>\n",
       "      <th>1</th>\n",
       "      <td>1.307152</td>\n",
       "      <td>-0.911894</td>\n",
       "      <td>9.073213</td>\n",
       "      <td>13.126864</td>\n",
       "      <td>2.868176</td>\n",
       "    </tr>\n",
       "    <tr>\n",
       "      <th>2</th>\n",
       "      <td>1.328381</td>\n",
       "      <td>-0.889859</td>\n",
       "      <td>8.718869</td>\n",
       "      <td>12.653481</td>\n",
       "      <td>2.880950</td>\n",
       "    </tr>\n",
       "    <tr>\n",
       "      <th>3</th>\n",
       "      <td>0.658476</td>\n",
       "      <td>-0.416098</td>\n",
       "      <td>0.781585</td>\n",
       "      <td>12.540622</td>\n",
       "      <td>1.994714</td>\n",
       "    </tr>\n",
       "    <tr>\n",
       "      <th>4</th>\n",
       "      <td>0.386032</td>\n",
       "      <td>-0.922912</td>\n",
       "      <td>9.923636</td>\n",
       "      <td>13.898736</td>\n",
       "      <td>1.344335</td>\n",
       "    </tr>\n",
       "    <tr>\n",
       "      <th>...</th>\n",
       "      <td>...</td>\n",
       "      <td>...</td>\n",
       "      <td>...</td>\n",
       "      <td>...</td>\n",
       "      <td>...</td>\n",
       "    </tr>\n",
       "    <tr>\n",
       "      <th>62974</th>\n",
       "      <td>2.076128</td>\n",
       "      <td>-0.460169</td>\n",
       "      <td>-0.706656</td>\n",
       "      <td>-0.805297</td>\n",
       "      <td>-0.065898</td>\n",
       "    </tr>\n",
       "    <tr>\n",
       "      <th>62975</th>\n",
       "      <td>0.557046</td>\n",
       "      <td>-0.283886</td>\n",
       "      <td>-0.706656</td>\n",
       "      <td>-0.805297</td>\n",
       "      <td>-0.282309</td>\n",
       "    </tr>\n",
       "    <tr>\n",
       "      <th>62976</th>\n",
       "      <td>-0.149421</td>\n",
       "      <td>-0.735611</td>\n",
       "      <td>-0.706656</td>\n",
       "      <td>-0.772332</td>\n",
       "      <td>-2.689885</td>\n",
       "    </tr>\n",
       "    <tr>\n",
       "      <th>62977</th>\n",
       "      <td>-1.206173</td>\n",
       "      <td>1.605649</td>\n",
       "      <td>-0.706656</td>\n",
       "      <td>-0.779837</td>\n",
       "      <td>-2.554628</td>\n",
       "    </tr>\n",
       "    <tr>\n",
       "      <th>62978</th>\n",
       "      <td>-0.479656</td>\n",
       "      <td>0.603039</td>\n",
       "      <td>-0.706656</td>\n",
       "      <td>-0.786677</td>\n",
       "      <td>-2.392319</td>\n",
       "    </tr>\n",
       "  </tbody>\n",
       "</table>\n",
       "<p>62044 rows × 5 columns</p>\n",
       "</div>"
      ],
      "text/plain": [
       "           入会时长    上一飞行距今       飞行总计      飞行总里程     平均折扣率\n",
       "0      1.435707 -0.944948  14.034016  26.761154  1.295540\n",
       "1      1.307152 -0.911894   9.073213  13.126864  2.868176\n",
       "2      1.328381 -0.889859   8.718869  12.653481  2.880950\n",
       "3      0.658476 -0.416098   0.781585  12.540622  1.994714\n",
       "4      0.386032 -0.922912   9.923636  13.898736  1.344335\n",
       "...         ...       ...        ...        ...       ...\n",
       "62974  2.076128 -0.460169  -0.706656  -0.805297 -0.065898\n",
       "62975  0.557046 -0.283886  -0.706656  -0.805297 -0.282309\n",
       "62976 -0.149421 -0.735611  -0.706656  -0.772332 -2.689885\n",
       "62977 -1.206173  1.605649  -0.706656  -0.779837 -2.554628\n",
       "62978 -0.479656  0.603039  -0.706656  -0.786677 -2.392319\n",
       "\n",
       "[62044 rows x 5 columns]"
      ]
     },
     "execution_count": 7,
     "metadata": {},
     "output_type": "execute_result"
    }
   ],
   "source": [
    "al4=(al3-al3.mean(axis=0))/al3.std(axis=0) #形成la4建模数据集，标准化处理\n",
    "al4"
   ]
  },
  {
   "cell_type": "markdown",
   "metadata": {},
   "source": [
    "根据客户的五个指标，对客户进行聚类分群，k=5"
   ]
  },
  {
   "cell_type": "code",
   "execution_count": 8,
   "metadata": {},
   "outputs": [
    {
     "data": {
      "text/plain": [
       "(array([[ 1.16468452, -0.37815724, -0.08527927, -0.09306986, -0.15990324],\n",
       "        [-0.31131564,  1.6932806 , -0.57474724, -0.53649637, -0.19263064],\n",
       "        [ 0.48514132, -0.79994039,  2.4835996 ,  2.42466864,  0.31484279],\n",
       "        [-0.70013748, -0.41774793, -0.15737727, -0.15613067, -0.27464002],\n",
       "        [-0.01213353,  0.01473446, -0.25446195, -0.26527147,  2.04722409]]),\n",
       " array([2, 2, 2, ..., 3, 1, 1]))"
      ]
     },
     "execution_count": 8,
     "metadata": {},
     "output_type": "execute_result"
    }
   ],
   "source": [
    "from sklearn.cluster import KMeans #导入kmeans算法\n",
    "\n",
    "\n",
    "k = 5\n",
    "kmodel = KMeans(n_clusters=k)  #模型初始化，n_clusters为分类数，一般为cpu数\n",
    "kmodel.fit(al4)\n",
    "\n",
    "kmodel.cluster_centers_,kmodel.labels_ #聚类中心，聚类类别"
   ]
  },
  {
   "cell_type": "code",
   "execution_count": 9,
   "metadata": {},
   "outputs": [
    {
     "data": {
      "text/html": [
       "<div>\n",
       "<style scoped>\n",
       "    .dataframe tbody tr th:only-of-type {\n",
       "        vertical-align: middle;\n",
       "    }\n",
       "\n",
       "    .dataframe tbody tr th {\n",
       "        vertical-align: top;\n",
       "    }\n",
       "\n",
       "    .dataframe thead th {\n",
       "        text-align: right;\n",
       "    }\n",
       "</style>\n",
       "<table border=\"1\" class=\"dataframe\">\n",
       "  <thead>\n",
       "    <tr style=\"text-align: right;\">\n",
       "      <th></th>\n",
       "      <th>聚类个数</th>\n",
       "      <th>入会时长</th>\n",
       "      <th>上一飞行距今</th>\n",
       "      <th>飞行总计</th>\n",
       "      <th>飞行总里程</th>\n",
       "      <th>平均折扣率</th>\n",
       "    </tr>\n",
       "  </thead>\n",
       "  <tbody>\n",
       "    <tr>\n",
       "      <th>0</th>\n",
       "      <td>15647</td>\n",
       "      <td>1.164685</td>\n",
       "      <td>-0.378157</td>\n",
       "      <td>-0.085279</td>\n",
       "      <td>-0.093070</td>\n",
       "      <td>-0.159903</td>\n",
       "    </tr>\n",
       "    <tr>\n",
       "      <th>1</th>\n",
       "      <td>11981</td>\n",
       "      <td>-0.311316</td>\n",
       "      <td>1.693281</td>\n",
       "      <td>-0.574747</td>\n",
       "      <td>-0.536496</td>\n",
       "      <td>-0.192631</td>\n",
       "    </tr>\n",
       "    <tr>\n",
       "      <th>2</th>\n",
       "      <td>5338</td>\n",
       "      <td>0.485141</td>\n",
       "      <td>-0.799940</td>\n",
       "      <td>2.483600</td>\n",
       "      <td>2.424669</td>\n",
       "      <td>0.314843</td>\n",
       "    </tr>\n",
       "    <tr>\n",
       "      <th>3</th>\n",
       "      <td>24329</td>\n",
       "      <td>-0.700137</td>\n",
       "      <td>-0.417748</td>\n",
       "      <td>-0.157377</td>\n",
       "      <td>-0.156131</td>\n",
       "      <td>-0.274640</td>\n",
       "    </tr>\n",
       "    <tr>\n",
       "      <th>4</th>\n",
       "      <td>4749</td>\n",
       "      <td>-0.012134</td>\n",
       "      <td>0.014734</td>\n",
       "      <td>-0.254462</td>\n",
       "      <td>-0.265271</td>\n",
       "      <td>2.047224</td>\n",
       "    </tr>\n",
       "  </tbody>\n",
       "</table>\n",
       "</div>"
      ],
      "text/plain": [
       "    聚类个数      入会时长    上一飞行距今      飞行总计     飞行总里程     平均折扣率\n",
       "0  15647  1.164685 -0.378157 -0.085279 -0.093070 -0.159903\n",
       "1  11981 -0.311316  1.693281 -0.574747 -0.536496 -0.192631\n",
       "2   5338  0.485141 -0.799940  2.483600  2.424669  0.314843\n",
       "3  24329 -0.700137 -0.417748 -0.157377 -0.156131 -0.274640\n",
       "4   4749 -0.012134  0.014734 -0.254462 -0.265271  2.047224"
      ]
     },
     "execution_count": 9,
     "metadata": {},
     "output_type": "execute_result"
    }
   ],
   "source": [
    "r1=pd.Series(kmodel.labels_).value_counts() #统计各个类别的数目\n",
    "r2=pd.DataFrame(kmodel.cluster_centers_)  #找出聚类中心\n",
    "al5=pd.concat([r1,r2],axis=1)  #横向连接（0是纵向），得到聚类中心对应的类别下的数目\n",
    "al5.columns=['聚类个数'] + list(al3.columns)\n",
    "al5.head()"
   ]
  },
  {
   "cell_type": "code",
   "execution_count": 21,
   "metadata": {},
   "outputs": [
    {
     "data": {
      "image/png": "[encoded data removed]",
      "text/plain": [
       "<Figure size 432x432 with 1 Axes>"
      ]
     },
     "metadata": {},
     "output_type": "display_data"
    }
   ],
   "source": [
    "plt.style.use('ggplot')\n",
    "plt.rcParams['font.sans-serif']='simkai'\n",
    "plt.rcParams['axes.unicode_minus']=False\n",
    "#标签\n",
    "labels = np.array(al3.columns)\n",
    "# 数据个数\n",
    "dateLength=5\n",
    "N=len(r2)\n",
    "# 设置雷达图的角度，用于平分切开一个圆面\n",
    "angles=np.linspace(0,2*np.pi,N,endpoint=False)\n",
    "#封闭雷达图\n",
    "data=pd.concat([r2,r2.iloc[:,0]],axis=1)\n",
    "angles=np.concatenate((angles,[angles[0]]))\n",
    "fig=plt.figure(figsize = (6,6))  #雷达图显示大小\n",
    "ax=fig.add_subplot(111,polar=True)\n",
    "\n",
    "for i in range(0,5):\n",
    "    j=i+1\n",
    "    ax.plot(angles,data.iloc[i,:],'o-',linewidth=2,label='Customers{0}'.format(j))\n",
    "    \n",
    "ax.set_thetagrids(angles*180/np.pi,labels,fontproperties='SimHei')  #每个特征对应的标签\n",
    "ax.set_title('客户特征分析图',va='bottom',fontproperties='SimHei')  #标题\n",
    "ax.set_rlim(-1,2.6)  # 设置雷达图的范围\n",
    "ax.grid(True)  # 添加网格线\n",
    "plt.legend()\n",
    "plt.show()"
   ]
  },
  {
   "cell_type": "markdown",
   "metadata": {},
   "source": [
    "价值分析 特征分析\n",
    "- Customer 1： 在'入会时长'属性最大，定义为重要挽留客户\n",
    "- Customer 2： 在'飞行总计' '飞行总里程'属性最小，定义为低价值客户\n",
    "- Customer 3： 在'飞行总计' '飞行总里程'属性最大，定义为重要保持客户\n",
    "- Customer 4： 在'飞行总计' '飞行总里程'属性上较小，定义为一般客户\n",
    "- Customer 5： 在'平均折扣率'属性上最大，可定义为重要发展客户\n",
    "\n",
    "每种客户类别的特征如下：\n",
    "- 1.重要挽留客户：'平均折扣率'、'飞行总计'、'飞行总里程'较高，客户价值变化的不确定性高。应掌握客户最新信息、维持与客户的互动。\n",
    "- 2.一般和低价值客户：其他属性都低、'上一次飞行距今'较高。这类客户可能在打折促销时才会选择消费。\n",
    "- 3.重要保持客户：'平均折扣率'（平均折扣率较高、仓位等级较高）、'飞行总计'、'飞行总里程'较高，'上一次飞行距今'（最近乘坐航班）低。应将资源优先投放到这类客户身上，进行差异化管理，提高客户的忠诚度和满意度。\n",
    "- 4.重要发展客户：'平均折扣率'较高，这类客户入会时长短、当前价值低、发展潜力大，应促使客户增加在本公司和合作伙伴处的消费。"
   ]
  }
 ],
 "metadata": {
  "kernelspec": {
   "display_name": "Python 3",
   "language": "python",
   "name": "python3"
  },
  "language_info": {
   "codemirror_mode": {
    "name": "ipython",
    "version": 3
   },
   "file_extension": ".py",
   "mimetype": "text/x-python",
   "name": "python",
   "nbconvert_exporter": "python",
   "pygments_lexer": "ipython3",
   "version": "3.8.3"
  }
 },
 "nbformat": 4,
 "nbformat_minor": 2
}
